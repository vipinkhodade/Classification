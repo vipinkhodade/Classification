{
 "cells": [
  {
   "cell_type": "code",
   "execution_count": 43,
   "metadata": {},
   "outputs": [],
   "source": [
    "import numpy as np\n",
    "import pandas as pd"
   ]
  },
  {
   "cell_type": "code",
   "execution_count": 44,
   "metadata": {},
   "outputs": [],
   "source": [
    "data = pd.read_csv(\"classifier_test_data.csv\")"
   ]
  },
  {
   "cell_type": "code",
   "execution_count": 45,
   "metadata": {},
   "outputs": [
    {
     "data": {
      "text/html": [
       "<div>\n",
       "<style scoped>\n",
       "    .dataframe tbody tr th:only-of-type {\n",
       "        vertical-align: middle;\n",
       "    }\n",
       "\n",
       "    .dataframe tbody tr th {\n",
       "        vertical-align: top;\n",
       "    }\n",
       "\n",
       "    .dataframe thead th {\n",
       "        text-align: right;\n",
       "    }\n",
       "</style>\n",
       "<table border=\"1\" class=\"dataframe\">\n",
       "  <thead>\n",
       "    <tr style=\"text-align: right;\">\n",
       "      <th></th>\n",
       "      <th>col_1</th>\n",
       "      <th>col_2</th>\n",
       "      <th>col_3</th>\n",
       "      <th>col_4</th>\n",
       "      <th>col_5</th>\n",
       "      <th>col_6</th>\n",
       "      <th>col_7</th>\n",
       "      <th>col_8</th>\n",
       "      <th>label</th>\n",
       "    </tr>\n",
       "  </thead>\n",
       "  <tbody>\n",
       "    <tr>\n",
       "      <th>0</th>\n",
       "      <td>-0.639091</td>\n",
       "      <td>level_2</td>\n",
       "      <td>-0.037696</td>\n",
       "      <td>-0.127812</td>\n",
       "      <td>-0.168194</td>\n",
       "      <td>-0.045340</td>\n",
       "      <td>-0.003144</td>\n",
       "      <td>-0.015730</td>\n",
       "      <td>0</td>\n",
       "    </tr>\n",
       "    <tr>\n",
       "      <th>1</th>\n",
       "      <td>0.010371</td>\n",
       "      <td>level_3</td>\n",
       "      <td>-0.068052</td>\n",
       "      <td>-0.127812</td>\n",
       "      <td>-0.168194</td>\n",
       "      <td>-0.032994</td>\n",
       "      <td>-0.004076</td>\n",
       "      <td>-0.014531</td>\n",
       "      <td>0</td>\n",
       "    </tr>\n",
       "    <tr>\n",
       "      <th>2</th>\n",
       "      <td>0.127899</td>\n",
       "      <td>level_2</td>\n",
       "      <td>0.047852</td>\n",
       "      <td>-0.127812</td>\n",
       "      <td>-0.168194</td>\n",
       "      <td>0.004043</td>\n",
       "      <td>-0.010606</td>\n",
       "      <td>0.039139</td>\n",
       "      <td>1</td>\n",
       "    </tr>\n",
       "    <tr>\n",
       "      <th>3</th>\n",
       "      <td>-0.059165</td>\n",
       "      <td>level_3</td>\n",
       "      <td>0.020358</td>\n",
       "      <td>-0.127812</td>\n",
       "      <td>-0.168194</td>\n",
       "      <td>-0.045340</td>\n",
       "      <td>-0.003144</td>\n",
       "      <td>-0.005976</td>\n",
       "      <td>0</td>\n",
       "    </tr>\n",
       "    <tr>\n",
       "      <th>4</th>\n",
       "      <td>0.009237</td>\n",
       "      <td>level_3</td>\n",
       "      <td>0.292756</td>\n",
       "      <td>-0.127812</td>\n",
       "      <td>0.406844</td>\n",
       "      <td>0.004043</td>\n",
       "      <td>0.004319</td>\n",
       "      <td>-0.215709</td>\n",
       "      <td>0</td>\n",
       "    </tr>\n",
       "  </tbody>\n",
       "</table>\n",
       "</div>"
      ],
      "text/plain": [
       "      col_1    col_2     col_3     col_4     col_5     col_6     col_7  \\\n",
       "0 -0.639091  level_2 -0.037696 -0.127812 -0.168194 -0.045340 -0.003144   \n",
       "1  0.010371  level_3 -0.068052 -0.127812 -0.168194 -0.032994 -0.004076   \n",
       "2  0.127899  level_2  0.047852 -0.127812 -0.168194  0.004043 -0.010606   \n",
       "3 -0.059165  level_3  0.020358 -0.127812 -0.168194 -0.045340 -0.003144   \n",
       "4  0.009237  level_3  0.292756 -0.127812  0.406844  0.004043  0.004319   \n",
       "\n",
       "      col_8  label  \n",
       "0 -0.015730      0  \n",
       "1 -0.014531      0  \n",
       "2  0.039139      1  \n",
       "3 -0.005976      0  \n",
       "4 -0.215709      0  "
      ]
     },
     "execution_count": 45,
     "metadata": {},
     "output_type": "execute_result"
    }
   ],
   "source": [
    "data.head()"
   ]
  },
  {
   "cell_type": "code",
   "execution_count": 46,
   "metadata": {},
   "outputs": [
    {
     "data": {
      "text/plain": [
       "array(['level_2', 'level_3', 'level_1', 'level_4'], dtype=object)"
      ]
     },
     "execution_count": 46,
     "metadata": {},
     "output_type": "execute_result"
    }
   ],
   "source": [
    "data.col_2.unique()"
   ]
  },
  {
   "cell_type": "code",
   "execution_count": 47,
   "metadata": {},
   "outputs": [],
   "source": [
    "data['col_2']=data['col_2'].replace('level_1', 1)\n",
    "data['col_2']=data['col_2'].replace('level_2', 2)\n",
    "data['col_2']=data['col_2'].replace('level_3', 3)\n",
    "data['col_2']=data['col_2'].replace('level_4', 4)"
   ]
  },
  {
   "cell_type": "code",
   "execution_count": 48,
   "metadata": {},
   "outputs": [
    {
     "data": {
      "text/html": [
       "<div>\n",
       "<style scoped>\n",
       "    .dataframe tbody tr th:only-of-type {\n",
       "        vertical-align: middle;\n",
       "    }\n",
       "\n",
       "    .dataframe tbody tr th {\n",
       "        vertical-align: top;\n",
       "    }\n",
       "\n",
       "    .dataframe thead th {\n",
       "        text-align: right;\n",
       "    }\n",
       "</style>\n",
       "<table border=\"1\" class=\"dataframe\">\n",
       "  <thead>\n",
       "    <tr style=\"text-align: right;\">\n",
       "      <th></th>\n",
       "      <th>col_1</th>\n",
       "      <th>col_2</th>\n",
       "      <th>col_3</th>\n",
       "      <th>col_4</th>\n",
       "      <th>col_5</th>\n",
       "      <th>col_6</th>\n",
       "      <th>col_7</th>\n",
       "      <th>col_8</th>\n",
       "      <th>label</th>\n",
       "    </tr>\n",
       "  </thead>\n",
       "  <tbody>\n",
       "    <tr>\n",
       "      <th>0</th>\n",
       "      <td>-0.639091</td>\n",
       "      <td>2</td>\n",
       "      <td>-0.037696</td>\n",
       "      <td>-0.127812</td>\n",
       "      <td>-0.168194</td>\n",
       "      <td>-0.045340</td>\n",
       "      <td>-0.003144</td>\n",
       "      <td>-0.015730</td>\n",
       "      <td>0</td>\n",
       "    </tr>\n",
       "    <tr>\n",
       "      <th>1</th>\n",
       "      <td>0.010371</td>\n",
       "      <td>3</td>\n",
       "      <td>-0.068052</td>\n",
       "      <td>-0.127812</td>\n",
       "      <td>-0.168194</td>\n",
       "      <td>-0.032994</td>\n",
       "      <td>-0.004076</td>\n",
       "      <td>-0.014531</td>\n",
       "      <td>0</td>\n",
       "    </tr>\n",
       "    <tr>\n",
       "      <th>2</th>\n",
       "      <td>0.127899</td>\n",
       "      <td>2</td>\n",
       "      <td>0.047852</td>\n",
       "      <td>-0.127812</td>\n",
       "      <td>-0.168194</td>\n",
       "      <td>0.004043</td>\n",
       "      <td>-0.010606</td>\n",
       "      <td>0.039139</td>\n",
       "      <td>1</td>\n",
       "    </tr>\n",
       "    <tr>\n",
       "      <th>3</th>\n",
       "      <td>-0.059165</td>\n",
       "      <td>3</td>\n",
       "      <td>0.020358</td>\n",
       "      <td>-0.127812</td>\n",
       "      <td>-0.168194</td>\n",
       "      <td>-0.045340</td>\n",
       "      <td>-0.003144</td>\n",
       "      <td>-0.005976</td>\n",
       "      <td>0</td>\n",
       "    </tr>\n",
       "    <tr>\n",
       "      <th>4</th>\n",
       "      <td>0.009237</td>\n",
       "      <td>3</td>\n",
       "      <td>0.292756</td>\n",
       "      <td>-0.127812</td>\n",
       "      <td>0.406844</td>\n",
       "      <td>0.004043</td>\n",
       "      <td>0.004319</td>\n",
       "      <td>-0.215709</td>\n",
       "      <td>0</td>\n",
       "    </tr>\n",
       "  </tbody>\n",
       "</table>\n",
       "</div>"
      ],
      "text/plain": [
       "      col_1  col_2     col_3     col_4     col_5     col_6     col_7  \\\n",
       "0 -0.639091      2 -0.037696 -0.127812 -0.168194 -0.045340 -0.003144   \n",
       "1  0.010371      3 -0.068052 -0.127812 -0.168194 -0.032994 -0.004076   \n",
       "2  0.127899      2  0.047852 -0.127812 -0.168194  0.004043 -0.010606   \n",
       "3 -0.059165      3  0.020358 -0.127812 -0.168194 -0.045340 -0.003144   \n",
       "4  0.009237      3  0.292756 -0.127812  0.406844  0.004043  0.004319   \n",
       "\n",
       "      col_8  label  \n",
       "0 -0.015730      0  \n",
       "1 -0.014531      0  \n",
       "2  0.039139      1  \n",
       "3 -0.005976      0  \n",
       "4 -0.215709      0  "
      ]
     },
     "execution_count": 48,
     "metadata": {},
     "output_type": "execute_result"
    }
   ],
   "source": [
    "data.head()"
   ]
  },
  {
   "cell_type": "code",
   "execution_count": 49,
   "metadata": {},
   "outputs": [
    {
     "name": "stdout",
     "output_type": "stream",
     "text": [
      "<class 'pandas.core.frame.DataFrame'>\n",
      "RangeIndex: 700 entries, 0 to 699\n",
      "Data columns (total 9 columns):\n",
      "col_1    700 non-null float64\n",
      "col_2    700 non-null int64\n",
      "col_3    700 non-null float64\n",
      "col_4    700 non-null float64\n",
      "col_5    700 non-null float64\n",
      "col_6    700 non-null float64\n",
      "col_7    700 non-null float64\n",
      "col_8    700 non-null float64\n",
      "label    700 non-null int64\n",
      "dtypes: float64(7), int64(2)\n",
      "memory usage: 49.3 KB\n"
     ]
    }
   ],
   "source": [
    "data.info()"
   ]
  },
  {
   "cell_type": "code",
   "execution_count": 50,
   "metadata": {},
   "outputs": [
    {
     "data": {
      "text/plain": [
       "col_1    0\n",
       "col_2    0\n",
       "col_3    0\n",
       "col_4    0\n",
       "col_5    0\n",
       "col_6    0\n",
       "col_7    0\n",
       "col_8    0\n",
       "label    0\n",
       "dtype: int64"
      ]
     },
     "execution_count": 50,
     "metadata": {},
     "output_type": "execute_result"
    }
   ],
   "source": [
    "data.isnull().sum()"
   ]
  },
  {
   "cell_type": "code",
   "execution_count": 51,
   "metadata": {},
   "outputs": [
    {
     "data": {
      "text/html": [
       "<div>\n",
       "<style scoped>\n",
       "    .dataframe tbody tr th:only-of-type {\n",
       "        vertical-align: middle;\n",
       "    }\n",
       "\n",
       "    .dataframe tbody tr th {\n",
       "        vertical-align: top;\n",
       "    }\n",
       "\n",
       "    .dataframe thead th {\n",
       "        text-align: right;\n",
       "    }\n",
       "</style>\n",
       "<table border=\"1\" class=\"dataframe\">\n",
       "  <thead>\n",
       "    <tr style=\"text-align: right;\">\n",
       "      <th></th>\n",
       "      <th>col_1</th>\n",
       "      <th>col_2</th>\n",
       "      <th>col_3</th>\n",
       "      <th>col_4</th>\n",
       "      <th>col_5</th>\n",
       "      <th>col_6</th>\n",
       "      <th>col_7</th>\n",
       "      <th>col_8</th>\n",
       "      <th>label</th>\n",
       "    </tr>\n",
       "  </thead>\n",
       "  <tbody>\n",
       "    <tr>\n",
       "      <th>count</th>\n",
       "      <td>700.000000</td>\n",
       "      <td>700.000000</td>\n",
       "      <td>700.000000</td>\n",
       "      <td>700.000000</td>\n",
       "      <td>700.000000</td>\n",
       "      <td>700.000000</td>\n",
       "      <td>700.000000</td>\n",
       "      <td>700.000000</td>\n",
       "      <td>700.000000</td>\n",
       "    </tr>\n",
       "    <tr>\n",
       "      <th>mean</th>\n",
       "      <td>-0.000896</td>\n",
       "      <td>2.621429</td>\n",
       "      <td>-0.000740</td>\n",
       "      <td>-0.001741</td>\n",
       "      <td>-0.002629</td>\n",
       "      <td>-0.000631</td>\n",
       "      <td>0.000008</td>\n",
       "      <td>0.000474</td>\n",
       "      <td>0.357143</td>\n",
       "    </tr>\n",
       "    <tr>\n",
       "      <th>std</th>\n",
       "      <td>0.141585</td>\n",
       "      <td>0.561877</td>\n",
       "      <td>0.133235</td>\n",
       "      <td>0.193554</td>\n",
       "      <td>0.265217</td>\n",
       "      <td>0.101872</td>\n",
       "      <td>0.054441</td>\n",
       "      <td>0.091136</td>\n",
       "      <td>0.479500</td>\n",
       "    </tr>\n",
       "    <tr>\n",
       "      <th>min</th>\n",
       "      <td>-0.672061</td>\n",
       "      <td>1.000000</td>\n",
       "      <td>-0.456137</td>\n",
       "      <td>-0.127812</td>\n",
       "      <td>-0.168194</td>\n",
       "      <td>-0.045340</td>\n",
       "      <td>-0.323106</td>\n",
       "      <td>-0.489605</td>\n",
       "      <td>0.000000</td>\n",
       "    </tr>\n",
       "    <tr>\n",
       "      <th>25%</th>\n",
       "      <td>-0.070531</td>\n",
       "      <td>2.000000</td>\n",
       "      <td>-0.060931</td>\n",
       "      <td>-0.127812</td>\n",
       "      <td>-0.168194</td>\n",
       "      <td>-0.045340</td>\n",
       "      <td>-0.004076</td>\n",
       "      <td>-0.018721</td>\n",
       "      <td>0.000000</td>\n",
       "    </tr>\n",
       "    <tr>\n",
       "      <th>50%</th>\n",
       "      <td>0.009154</td>\n",
       "      <td>3.000000</td>\n",
       "      <td>0.001747</td>\n",
       "      <td>-0.127812</td>\n",
       "      <td>-0.168194</td>\n",
       "      <td>-0.032994</td>\n",
       "      <td>-0.003144</td>\n",
       "      <td>-0.000963</td>\n",
       "      <td>0.000000</td>\n",
       "    </tr>\n",
       "    <tr>\n",
       "      <th>75%</th>\n",
       "      <td>0.092430</td>\n",
       "      <td>3.000000</td>\n",
       "      <td>0.058184</td>\n",
       "      <td>0.122188</td>\n",
       "      <td>0.277415</td>\n",
       "      <td>0.004043</td>\n",
       "      <td>-0.002211</td>\n",
       "      <td>0.028327</td>\n",
       "      <td>1.000000</td>\n",
       "    </tr>\n",
       "    <tr>\n",
       "      <th>max</th>\n",
       "      <td>0.327939</td>\n",
       "      <td>4.000000</td>\n",
       "      <td>0.543863</td>\n",
       "      <td>0.872188</td>\n",
       "      <td>0.831806</td>\n",
       "      <td>0.954660</td>\n",
       "      <td>0.676894</td>\n",
       "      <td>0.510395</td>\n",
       "      <td>1.000000</td>\n",
       "    </tr>\n",
       "  </tbody>\n",
       "</table>\n",
       "</div>"
      ],
      "text/plain": [
       "            col_1       col_2       col_3       col_4       col_5       col_6  \\\n",
       "count  700.000000  700.000000  700.000000  700.000000  700.000000  700.000000   \n",
       "mean    -0.000896    2.621429   -0.000740   -0.001741   -0.002629   -0.000631   \n",
       "std      0.141585    0.561877    0.133235    0.193554    0.265217    0.101872   \n",
       "min     -0.672061    1.000000   -0.456137   -0.127812   -0.168194   -0.045340   \n",
       "25%     -0.070531    2.000000   -0.060931   -0.127812   -0.168194   -0.045340   \n",
       "50%      0.009154    3.000000    0.001747   -0.127812   -0.168194   -0.032994   \n",
       "75%      0.092430    3.000000    0.058184    0.122188    0.277415    0.004043   \n",
       "max      0.327939    4.000000    0.543863    0.872188    0.831806    0.954660   \n",
       "\n",
       "            col_7       col_8       label  \n",
       "count  700.000000  700.000000  700.000000  \n",
       "mean     0.000008    0.000474    0.357143  \n",
       "std      0.054441    0.091136    0.479500  \n",
       "min     -0.323106   -0.489605    0.000000  \n",
       "25%     -0.004076   -0.018721    0.000000  \n",
       "50%     -0.003144   -0.000963    0.000000  \n",
       "75%     -0.002211    0.028327    1.000000  \n",
       "max      0.676894    0.510395    1.000000  "
      ]
     },
     "execution_count": 51,
     "metadata": {},
     "output_type": "execute_result"
    }
   ],
   "source": [
    "data.describe()"
   ]
  },
  {
   "cell_type": "code",
   "execution_count": 52,
   "metadata": {},
   "outputs": [],
   "source": [
    "import matplotlib.pyplot as plt\n",
    "import seaborn as sns"
   ]
  },
  {
   "cell_type": "code",
   "execution_count": 53,
   "metadata": {},
   "outputs": [
    {
     "data": {
      "text/plain": [
       "<matplotlib.collections.PathCollection at 0x2791cb1ff28>"
      ]
     },
     "execution_count": 53,
     "metadata": {},
     "output_type": "execute_result"
    },
    {
     "data": {
      "image/png": "[encoded data removed]",
      "text/plain": [
       "<Figure size 432x288 with 1 Axes>"
      ]
     },
     "metadata": {
      "needs_background": "light"
     },
     "output_type": "display_data"
    }
   ],
   "source": [
    "plt.scatter(data['col_1'],data['label'])"
   ]
  },
  {
   "cell_type": "code",
   "execution_count": 54,
   "metadata": {},
   "outputs": [
    {
     "data": {
      "text/plain": [
       "<matplotlib.collections.PathCollection at 0x2791cb79f98>"
      ]
     },
     "execution_count": 54,
     "metadata": {},
     "output_type": "execute_result"
    },
    {
     "data": {
      "image/png": "[encoded data removed]",
      "text/plain": [
       "<Figure size 432x288 with 1 Axes>"
      ]
     },
     "metadata": {
      "needs_background": "light"
     },
     "output_type": "display_data"
    }
   ],
   "source": [
    "plt.scatter(data['col_2'],data['label'])"
   ]
  },
  {
   "cell_type": "code",
   "execution_count": 55,
   "metadata": {},
   "outputs": [
    {
     "data": {
      "text/plain": [
       "<matplotlib.collections.PathCollection at 0x2791cbd5ac8>"
      ]
     },
     "execution_count": 55,
     "metadata": {},
     "output_type": "execute_result"
    },
    {
     "data": {
      "image/png": "[encoded data removed]",
      "text/plain": [
       "<Figure size 432x288 with 1 Axes>"
      ]
     },
     "metadata": {
      "needs_background": "light"
     },
     "output_type": "display_data"
    }
   ],
   "source": [
    "plt.scatter(data['col_3'],data['label'])"
   ]
  },
  {
   "cell_type": "code",
   "execution_count": 56,
   "metadata": {},
   "outputs": [
    {
     "data": {
      "text/plain": [
       "<matplotlib.collections.PathCollection at 0x2791dc246d8>"
      ]
     },
     "execution_count": 56,
     "metadata": {},
     "output_type": "execute_result"
    },
    {
     "data": {
      "image/png": "[encoded data removed]",
      "text/plain": [
       "<Figure size 432x288 with 1 Axes>"
      ]
     },
     "metadata": {
      "needs_background": "light"
     },
     "output_type": "display_data"
    }
   ],
   "source": [
    "plt.scatter(data['col_4'],data['label'])"
   ]
  },
  {
   "cell_type": "code",
   "execution_count": 57,
   "metadata": {},
   "outputs": [
    {
     "data": {
      "text/plain": [
       "<matplotlib.collections.PathCollection at 0x2791dc76518>"
      ]
     },
     "execution_count": 57,
     "metadata": {},
     "output_type": "execute_result"
    },
    {
     "data": {
      "image/png": "[encoded data removed]",
      "text/plain": [
       "<Figure size 432x288 with 1 Axes>"
      ]
     },
     "metadata": {
      "needs_background": "light"
     },
     "output_type": "display_data"
    }
   ],
   "source": [
    "plt.scatter(data['col_5'],data['label'])"
   ]
  },
  {
   "cell_type": "code",
   "execution_count": 58,
   "metadata": {},
   "outputs": [
    {
     "data": {
      "text/plain": [
       "<matplotlib.collections.PathCollection at 0x2791dca3940>"
      ]
     },
     "execution_count": 58,
     "metadata": {},
     "output_type": "execute_result"
    },
    {
     "data": {
      "image/png": "[encoded data removed]",
      "text/plain": [
       "<Figure size 432x288 with 1 Axes>"
      ]
     },
     "metadata": {
      "needs_background": "light"
     },
     "output_type": "display_data"
    }
   ],
   "source": [
    "plt.scatter(data['col_6'],data['label'])"
   ]
  },
  {
   "cell_type": "code",
   "execution_count": 59,
   "metadata": {},
   "outputs": [
    {
     "data": {
      "text/plain": [
       "<matplotlib.collections.PathCollection at 0x2791dcd2f28>"
      ]
     },
     "execution_count": 59,
     "metadata": {},
     "output_type": "execute_result"
    },
    {
     "data": {
      "image/png": "[encoded data removed]",
      "text/plain": [
       "<Figure size 432x288 with 1 Axes>"
      ]
     },
     "metadata": {
      "needs_background": "light"
     },
     "output_type": "display_data"
    }
   ],
   "source": [
    "plt.scatter(data['col_7'],data['label'])"
   ]
  },
  {
   "cell_type": "code",
   "execution_count": 60,
   "metadata": {},
   "outputs": [
    {
     "data": {
      "text/plain": [
       "<matplotlib.collections.PathCollection at 0x2791dd513c8>"
      ]
     },
     "execution_count": 60,
     "metadata": {},
     "output_type": "execute_result"
    },
    {
     "data": {
      "image/png": "[encoded data removed]",
      "text/plain": [
       "<Figure size 432x288 with 1 Axes>"
      ]
     },
     "metadata": {
      "needs_background": "light"
     },
     "output_type": "display_data"
    }
   ],
   "source": [
    "plt.scatter(data['col_8'],data['label'])"
   ]
  },
  {
   "cell_type": "code",
   "execution_count": 61,
   "metadata": {},
   "outputs": [
    {
     "data": {
      "text/html": [
       "<div>\n",
       "<style scoped>\n",
       "    .dataframe tbody tr th:only-of-type {\n",
       "        vertical-align: middle;\n",
       "    }\n",
       "\n",
       "    .dataframe tbody tr th {\n",
       "        vertical-align: top;\n",
       "    }\n",
       "\n",
       "    .dataframe thead th {\n",
       "        text-align: right;\n",
       "    }\n",
       "</style>\n",
       "<table border=\"1\" class=\"dataframe\">\n",
       "  <thead>\n",
       "    <tr style=\"text-align: right;\">\n",
       "      <th></th>\n",
       "      <th>col_1</th>\n",
       "      <th>col_2</th>\n",
       "      <th>col_3</th>\n",
       "      <th>col_4</th>\n",
       "      <th>col_5</th>\n",
       "      <th>col_6</th>\n",
       "      <th>col_7</th>\n",
       "      <th>col_8</th>\n",
       "      <th>label</th>\n",
       "    </tr>\n",
       "  </thead>\n",
       "  <tbody>\n",
       "    <tr>\n",
       "      <th>col_1</th>\n",
       "      <td>1.000000</td>\n",
       "      <td>-0.028617</td>\n",
       "      <td>-0.010911</td>\n",
       "      <td>-0.051683</td>\n",
       "      <td>0.108331</td>\n",
       "      <td>0.071360</td>\n",
       "      <td>0.013177</td>\n",
       "      <td>-0.009360</td>\n",
       "      <td>0.160560</td>\n",
       "    </tr>\n",
       "    <tr>\n",
       "      <th>col_2</th>\n",
       "      <td>-0.028617</td>\n",
       "      <td>1.000000</td>\n",
       "      <td>-0.049697</td>\n",
       "      <td>0.071153</td>\n",
       "      <td>-0.025142</td>\n",
       "      <td>0.013169</td>\n",
       "      <td>0.016331</td>\n",
       "      <td>-0.006985</td>\n",
       "      <td>0.008724</td>\n",
       "    </tr>\n",
       "    <tr>\n",
       "      <th>col_3</th>\n",
       "      <td>-0.010911</td>\n",
       "      <td>-0.049697</td>\n",
       "      <td>1.000000</td>\n",
       "      <td>-0.070119</td>\n",
       "      <td>0.011804</td>\n",
       "      <td>0.017736</td>\n",
       "      <td>0.003020</td>\n",
       "      <td>-0.023816</td>\n",
       "      <td>0.015830</td>\n",
       "    </tr>\n",
       "    <tr>\n",
       "      <th>col_4</th>\n",
       "      <td>-0.051683</td>\n",
       "      <td>0.071153</td>\n",
       "      <td>-0.070119</td>\n",
       "      <td>1.000000</td>\n",
       "      <td>-0.043369</td>\n",
       "      <td>0.013578</td>\n",
       "      <td>-0.038300</td>\n",
       "      <td>0.001844</td>\n",
       "      <td>-0.061934</td>\n",
       "    </tr>\n",
       "    <tr>\n",
       "      <th>col_5</th>\n",
       "      <td>0.108331</td>\n",
       "      <td>-0.025142</td>\n",
       "      <td>0.011804</td>\n",
       "      <td>-0.043369</td>\n",
       "      <td>1.000000</td>\n",
       "      <td>0.418108</td>\n",
       "      <td>0.470563</td>\n",
       "      <td>-0.037892</td>\n",
       "      <td>0.196871</td>\n",
       "    </tr>\n",
       "    <tr>\n",
       "      <th>col_6</th>\n",
       "      <td>0.071360</td>\n",
       "      <td>0.013169</td>\n",
       "      <td>0.017736</td>\n",
       "      <td>0.013578</td>\n",
       "      <td>0.418108</td>\n",
       "      <td>1.000000</td>\n",
       "      <td>0.501557</td>\n",
       "      <td>0.030625</td>\n",
       "      <td>0.077609</td>\n",
       "    </tr>\n",
       "    <tr>\n",
       "      <th>col_7</th>\n",
       "      <td>0.013177</td>\n",
       "      <td>0.016331</td>\n",
       "      <td>0.003020</td>\n",
       "      <td>-0.038300</td>\n",
       "      <td>0.470563</td>\n",
       "      <td>0.501557</td>\n",
       "      <td>1.000000</td>\n",
       "      <td>0.019246</td>\n",
       "      <td>0.140146</td>\n",
       "    </tr>\n",
       "    <tr>\n",
       "      <th>col_8</th>\n",
       "      <td>-0.009360</td>\n",
       "      <td>-0.006985</td>\n",
       "      <td>-0.023816</td>\n",
       "      <td>0.001844</td>\n",
       "      <td>-0.037892</td>\n",
       "      <td>0.030625</td>\n",
       "      <td>0.019246</td>\n",
       "      <td>1.000000</td>\n",
       "      <td>0.206133</td>\n",
       "    </tr>\n",
       "    <tr>\n",
       "      <th>label</th>\n",
       "      <td>0.160560</td>\n",
       "      <td>0.008724</td>\n",
       "      <td>0.015830</td>\n",
       "      <td>-0.061934</td>\n",
       "      <td>0.196871</td>\n",
       "      <td>0.077609</td>\n",
       "      <td>0.140146</td>\n",
       "      <td>0.206133</td>\n",
       "      <td>1.000000</td>\n",
       "    </tr>\n",
       "  </tbody>\n",
       "</table>\n",
       "</div>"
      ],
      "text/plain": [
       "          col_1     col_2     col_3     col_4     col_5     col_6     col_7  \\\n",
       "col_1  1.000000 -0.028617 -0.010911 -0.051683  0.108331  0.071360  0.013177   \n",
       "col_2 -0.028617  1.000000 -0.049697  0.071153 -0.025142  0.013169  0.016331   \n",
       "col_3 -0.010911 -0.049697  1.000000 -0.070119  0.011804  0.017736  0.003020   \n",
       "col_4 -0.051683  0.071153 -0.070119  1.000000 -0.043369  0.013578 -0.038300   \n",
       "col_5  0.108331 -0.025142  0.011804 -0.043369  1.000000  0.418108  0.470563   \n",
       "col_6  0.071360  0.013169  0.017736  0.013578  0.418108  1.000000  0.501557   \n",
       "col_7  0.013177  0.016331  0.003020 -0.038300  0.470563  0.501557  1.000000   \n",
       "col_8 -0.009360 -0.006985 -0.023816  0.001844 -0.037892  0.030625  0.019246   \n",
       "label  0.160560  0.008724  0.015830 -0.061934  0.196871  0.077609  0.140146   \n",
       "\n",
       "          col_8     label  \n",
       "col_1 -0.009360  0.160560  \n",
       "col_2 -0.006985  0.008724  \n",
       "col_3 -0.023816  0.015830  \n",
       "col_4  0.001844 -0.061934  \n",
       "col_5 -0.037892  0.196871  \n",
       "col_6  0.030625  0.077609  \n",
       "col_7  0.019246  0.140146  \n",
       "col_8  1.000000  0.206133  \n",
       "label  0.206133  1.000000  "
      ]
     },
     "execution_count": 61,
     "metadata": {},
     "output_type": "execute_result"
    }
   ],
   "source": [
    "data.corr()"
   ]
  },
  {
   "cell_type": "code",
   "execution_count": 62,
   "metadata": {},
   "outputs": [],
   "source": [
    "from sklearn.model_selection import train_test_split"
   ]
  },
  {
   "cell_type": "code",
   "execution_count": 63,
   "metadata": {},
   "outputs": [],
   "source": [
    "x=data[['col_1','col_2','col_3','col_5',\n",
    "        'col_6','col_7','col_8']]\n",
    "y=data['label']"
   ]
  },
  {
   "cell_type": "code",
   "execution_count": 64,
   "metadata": {},
   "outputs": [],
   "source": [
    "x_train, x_test, y_train, y_test = train_test_split(x,y, test_size=0.33)"
   ]
  },
  {
   "cell_type": "code",
   "execution_count": 65,
   "metadata": {},
   "outputs": [],
   "source": [
    "from sklearn.linear_model import LogisticRegression, RidgeClassifier, Lasso\n",
    "from sklearn.metrics import accuracy_score, confusion_matrix"
   ]
  },
  {
   "cell_type": "markdown",
   "metadata": {},
   "source": [
    "<h3>Logistic Regression</h3>"
   ]
  },
  {
   "cell_type": "code",
   "execution_count": 66,
   "metadata": {},
   "outputs": [
    {
     "name": "stderr",
     "output_type": "stream",
     "text": [
      "C:\\Users\\khoda\\Anaconda3\\lib\\site-packages\\sklearn\\linear_model\\logistic.py:433: FutureWarning: Default solver will be changed to 'lbfgs' in 0.22. Specify a solver to silence this warning.\n",
      "  FutureWarning)\n"
     ]
    }
   ],
   "source": [
    "log=LogisticRegression()\n",
    "log.fit(x_train, y_train)\n",
    "y_pred=log.predict(x_test)"
   ]
  },
  {
   "cell_type": "code",
   "execution_count": 67,
   "metadata": {},
   "outputs": [
    {
     "name": "stdout",
     "output_type": "stream",
     "text": [
      "Mean Squared Error:  0.3203463203463203\n",
      "Confusion Matrics: \n",
      "[[143   8]\n",
      " [ 66  14]]\n",
      "Accuracy:  0.6796536796536796\n"
     ]
    }
   ],
   "source": [
    "from sklearn.metrics import mean_squared_error\n",
    "print(\"Mean Squared Error: \",mean_squared_error(y_test,y_pred))\n",
    "cnf=confusion_matrix(y_test, y_pred)\n",
    "print(\"Confusion Matrics: \")\n",
    "print(cnf)\n",
    "print(\"Accuracy: \",accuracy_score(y_test, y_pred))"
   ]
  },
  {
   "cell_type": "markdown",
   "metadata": {},
   "source": [
    "<h3>Ridge Clssifier</h3>"
   ]
  },
  {
   "cell_type": "code",
   "execution_count": 68,
   "metadata": {},
   "outputs": [],
   "source": [
    "ridge=RidgeClassifier()\n",
    "ridge.fit(x_train, y_train)\n",
    "y_pred2=ridge.predict(x_test)"
   ]
  },
  {
   "cell_type": "code",
   "execution_count": 69,
   "metadata": {},
   "outputs": [
    {
     "name": "stdout",
     "output_type": "stream",
     "text": [
      "Mean Squared Error:  0.31601731601731603\n",
      "Confusion Matrics: \n",
      "[[141  10]\n",
      " [ 63  17]]\n",
      "Accuracy:  0.683982683982684\n"
     ]
    }
   ],
   "source": [
    "print(\"Mean Squared Error: \",mean_squared_error(y_test,y_pred2))\n",
    "cnf=confusion_matrix(y_test, y_pred2)\n",
    "print(\"Confusion Matrics: \")\n",
    "print(cnf)\n",
    "print(\"Accuracy: \",accuracy_score(y_test, y_pred2))"
   ]
  },
  {
   "cell_type": "markdown",
   "metadata": {},
   "source": [
    "<h3>Lasso Classifier </h3>"
   ]
  },
  {
   "cell_type": "code",
   "execution_count": 70,
   "metadata": {},
   "outputs": [],
   "source": [
    "ridge=RidgeClassifier()\n",
    "ridge.fit(x_train, y_train)\n",
    "y_pred3=ridge.predict(x_test)"
   ]
  },
  {
   "cell_type": "code",
   "execution_count": 71,
   "metadata": {},
   "outputs": [
    {
     "name": "stdout",
     "output_type": "stream",
     "text": [
      "Mean Squared Error:  0.31601731601731603\n",
      "Confusion Matrics: \n",
      "[[141  10]\n",
      " [ 63  17]]\n",
      "Accuracy:  0.683982683982684\n"
     ]
    }
   ],
   "source": [
    "print(\"Mean Squared Error: \",mean_squared_error(y_test,y_pred3))\n",
    "cnf=confusion_matrix(y_test, y_pred3)\n",
    "print(\"Confusion Matrics: \")\n",
    "print(cnf)\n",
    "print(\"Accuracy: \",accuracy_score(y_test, y_pred3))"
   ]
  },
  {
   "cell_type": "markdown",
   "metadata": {},
   "source": [
    "<h3>Random Forest Classifier</h3>"
   ]
  },
  {
   "cell_type": "code",
   "execution_count": 72,
   "metadata": {},
   "outputs": [],
   "source": [
    "from sklearn.ensemble import RandomForestClassifier"
   ]
  },
  {
   "cell_type": "code",
   "execution_count": 73,
   "metadata": {},
   "outputs": [],
   "source": [
    "rfc=RandomForestClassifier(n_estimators=200)\n",
    "rfc.fit(x_train, y_train)\n",
    "y_pred4=rfc.predict(x_test)"
   ]
  },
  {
   "cell_type": "code",
   "execution_count": 74,
   "metadata": {},
   "outputs": [
    {
     "name": "stdout",
     "output_type": "stream",
     "text": [
      "Mean Squared Error:  0.09090909090909091\n",
      "Confusion Matrics: \n",
      "[[144   7]\n",
      " [ 14  66]]\n",
      "Accuracy:  0.9090909090909091\n"
     ]
    }
   ],
   "source": [
    "print(\"Mean Squared Error: \",mean_squared_error(y_test,y_pred4))\n",
    "cnf=confusion_matrix(y_test, y_pred4)\n",
    "print(\"Confusion Matrics: \")\n",
    "print(cnf)\n",
    "print(\"Accuracy: \",accuracy_score(y_test, y_pred4))"
   ]
  }
 ],
 "metadata": {
  "kernelspec": {
   "display_name": "Python 3",
   "language": "python",
   "name": "python3"
  },
  "language_info": {
   "codemirror_mode": {
    "name": "ipython",
    "version": 3
   },
   "file_extension": ".py",
   "mimetype": "text/x-python",
   "name": "python",
   "nbconvert_exporter": "python",
   "pygments_lexer": "ipython3",
   "version": "3.7.1"
  }
 },
 "nbformat": 4,
 "nbformat_minor": 2
}
